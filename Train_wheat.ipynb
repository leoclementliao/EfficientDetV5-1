{
 "cells": [
  {
   "cell_type": "code",
   "execution_count": 4,
   "metadata": {},
   "outputs": [
    {
     "name": "stdout",
     "output_type": "stream",
     "text": [
      "{'lr0': 0.0004, 'momentum': 0.9, 'weight_decay': 4e-05, 'shear': 0.0}\n",
      "Namespace(adam=False, batch_size=8, bucket='', cache_images=False, cfg='models/yolov5s.yaml', data='./wheat0.yaml', device='', epochs=20, evolve=False, img_size=[512], multi_scale=False, name='V0', noautoanchor=False, nosave=False, notest=False, rect=False, resume=False, single_cls=False, weights='')\n",
      "Using CUDA Apex device0 _CudaDeviceProperties(name='GeForce RTX 2080 Ti', total_memory=11016MB)\n",
      "                device1 _CudaDeviceProperties(name='GeForce RTX 2080 Ti', total_memory=11019MB)\n",
      "\n",
      "Start Tensorboard with \"tensorboard --logdir=runs\", view at http://localhost:6006/\n",
      "effDet config: {'name': 'efficientdet_d4', 'backbone_name': 'tf_efficientnet_b4', 'backbone_args': {'drop_rate': 0.4, 'drop_path_rate': 0.2}, 'image_size': 512, 'input_rand_hflip': True, 'train_scale_min': 0.1, 'train_scale_max': 2.0, 'autoaugment_policy': None, 'num_classes': 1, 'skip_crowd_during_training': True, 'min_level': 3, 'max_level': 7, 'num_levels': 5, 'num_scales': 3, 'aspect_ratios': [[1.0, 1.0], [1.4, 0.7], [0.7, 1.4]], 'anchor_scale': 4.0, 'pad_type': 'same', 'box_class_repeats': 4, 'fpn_cell_repeats': 7, 'fpn_channels': 224, 'separable_conv': True, 'apply_bn_for_resampling': True, 'conv_after_downsample': False, 'conv_bn_relu_pattern': False, 'use_native_resize_op': False, 'pooling_type': None, 'redundant_bias': True, 'fpn_name': None, 'fpn_config': None, 'fpn_drop_path_rate': 0.0, 'momentum': 0.9, 'learning_rate': 0.08, 'lr_warmup_init': 0.008, 'lr_warmup_epoch': 1.0, 'first_lr_drop_epoch': 200.0, 'second_lr_drop_epoch': 250.0, 'clip_gradients_norm': 10.0, 'num_epochs': 300, 'weight_decay': 4e-05, 'alpha': 0.25, 'gamma': 1.5, 'delta': 0.1, 'box_loss_weight': 50.0, 'lr_decay_method': 'cosine', 'moving_average_decay': 0.9998, 'ckpt_var_scope': None}\n",
      "Optimizer groups: 0 .bias, 353 conv.weight, 530 other\n",
      "check if parallel:%d False\n",
      "Image sizes 512 train, 512 test\n",
      "Using 6 dataloader workers\n",
      "Starting training for 20 epochs...\n",
      "\n",
      "     Epoch   gpu_mem       box       cls     total   targets  img_size\n",
      "      0/19     9.15G    0.4596     10.54        11        33       512:   9%|██████▋                                                               | 32/337 [00:29<03:34,  1.42it/s]^C\n",
      "      0/19     9.15G    0.4596     10.54        11        33       512:   9%|██████▋                                                               | 32/337 [00:29<04:39,  1.09it/s]\n",
      "Traceback (most recent call last):\n",
      "  File \"trainV5.py\", line 465, in <module>\n",
      "    train(hyp)\n",
      "  File \"trainV5.py\", line 306, in train\n",
      "    total_loss, cls_loss, box_loss = model(images, boxes, labels)\n",
      "  File \"/home/wangying/.local/lib/python3.8/site-packages/torch/nn/modules/module.py\", line 550, in __call__\n",
      "    result = self.forward(*input, **kwargs)\n",
      "  File \"/home/wangying/Projects/project_wheat_detect/effdetPrj/effdet/bench.py\", line 86, in forward\n",
      "    class_out, box_out = self.model(x)\n",
      "  File \"/home/wangying/.local/lib/python3.8/site-packages/torch/nn/modules/module.py\", line 550, in __call__\n",
      "    result = self.forward(*input, **kwargs)\n",
      "  File \"/home/wangying/Projects/project_wheat_detect/effdetPrj/effdet/efficientdet.py\", line 444, in forward\n",
      "    x = self.backbone(x)\n",
      "  File \"/home/wangying/.local/lib/python3.8/site-packages/torch/nn/modules/module.py\", line 550, in __call__\n",
      "    result = self.forward(*input, **kwargs)\n",
      "  File \"/home/wangying/.local/lib/python3.8/site-packages/timm/models/efficientnet.py\", line 484, in forward\n",
      "    x = b(x)\n",
      "  File \"/home/wangying/.local/lib/python3.8/site-packages/torch/nn/modules/module.py\", line 550, in __call__\n",
      "    result = self.forward(*input, **kwargs)\n",
      "  File \"/home/wangying/.local/lib/python3.8/site-packages/torch/nn/modules/container.py\", line 100, in forward\n",
      "    input = module(input)\n",
      "  File \"/home/wangying/.local/lib/python3.8/site-packages/torch/nn/modules/module.py\", line 550, in __call__\n",
      "    result = self.forward(*input, **kwargs)\n",
      "  File \"/home/wangying/.local/lib/python3.8/site-packages/timm/models/efficientnet_blocks.py\", line 265, in forward\n",
      "    x = self.conv_dw(x)\n",
      "  File \"/home/wangying/.local/lib/python3.8/site-packages/torch/nn/modules/module.py\", line 550, in __call__\n",
      "    result = self.forward(*input, **kwargs)\n",
      "  File \"/home/wangying/.local/lib/python3.8/site-packages/torch/nn/modules/conv.py\", line 353, in forward\n",
      "    return self._conv_forward(input, self.weight)\n",
      "  File \"/home/wangying/.local/lib/python3.8/site-packages/torch/nn/modules/conv.py\", line 349, in _conv_forward\n",
      "    return F.conv2d(input, weight, self.bias, self.stride,\n",
      "  File \"/home/wangying/.local/lib/python3.8/site-packages/apex/amp/wrap.py\", line 21, in wrapper\n",
      "    args[i] = utils.cached_cast(cast_fn, args[i], handle.cache)\n",
      "  File \"/home/wangying/.local/lib/python3.8/site-packages/apex/amp/utils.py\", line 120, in cached_cast\n",
      "    casted_x = cast_fn(x)\n",
      "  File \"/home/wangying/.local/lib/python3.8/site-packages/apex/amp/utils.py\", line 63, in maybe_half\n",
      "    return x.half()\n",
      "KeyboardInterrupt\n"
     ]
    }
   ],
   "source": [
    "!python3 trainV5.py --img 512 --batch 8 --epochs 20 --data ./wheat0.yaml  --name V0"
   ]
  }
 ],
 "metadata": {
  "kernelspec": {
   "display_name": "Python 3",
   "language": "python",
   "name": "python3"
  },
  "language_info": {
   "codemirror_mode": {
    "name": "ipython",
    "version": 3
   },
   "file_extension": ".py",
   "mimetype": "text/x-python",
   "name": "python",
   "nbconvert_exporter": "python",
   "pygments_lexer": "ipython3",
   "version": "3.8.2"
  }
 },
 "nbformat": 4,
 "nbformat_minor": 4
}
