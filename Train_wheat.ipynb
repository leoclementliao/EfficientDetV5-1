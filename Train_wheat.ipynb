{
 "cells": [
  {
   "cell_type": "code",
   "execution_count": 3,
   "metadata": {},
   "outputs": [
    {
     "name": "stdout",
     "output_type": "stream",
     "text": [
      "Traceback (most recent call last):\r\n",
      "  File \"train.py\", line 33, in <module>\r\n",
      "    from data import CocoDetection, create_loader\r\n",
      "ImportError: cannot import name 'CocoDetection' from 'data' (/home/wangying/Projects/project_wheat_detect/effdetPrj/data/__init__.py)\r\n"
     ]
    }
   ],
   "source": [
    "!python3 trainV5.py --img 512 --batch 8 --epochs 20 --data ./wheat0.yaml  --name V0"
   ]
  }
 ],
 "metadata": {
  "kernelspec": {
   "display_name": "Python 3",
   "language": "python",
   "name": "python3"
  },
  "language_info": {
   "codemirror_mode": {
    "name": "ipython",
    "version": 3
   },
   "file_extension": ".py",
   "mimetype": "text/x-python",
   "name": "python",
   "nbconvert_exporter": "python",
   "pygments_lexer": "ipython3",
   "version": "3.8.2"
  }
 },
 "nbformat": 4,
 "nbformat_minor": 4
}
